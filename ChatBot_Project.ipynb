{
 "cells": [
  {
   "cell_type": "code",
   "execution_count": 4,
   "id": "60997cec",
   "metadata": {},
   "outputs": [],
   "source": [
    "import streamlit as st\n",
    "from transformers.pipelines import pipeline"
   ]
  },
  {
   "cell_type": "code",
   "execution_count": 3,
   "id": "19d84ec4",
   "metadata": {},
   "outputs": [
    {
     "name": "stderr",
     "output_type": "stream",
     "text": [
      "2024-11-23 18:11:43.938 WARNING streamlit.runtime.scriptrunner_utils.script_run_context: Thread 'MainThread': missing ScriptRunContext! This warning can be ignored when running in bare mode.\n",
      "2024-11-23 18:11:44.382 \n",
      "  \u001b[33m\u001b[1mWarning:\u001b[0m to view this Streamlit app on a browser, run it with the following\n",
      "  command:\n",
      "\n",
      "    streamlit run c:\\Users\\Sara Bharat Mali\\anaconda3\\Lib\\site-packages\\ipykernel_launcher.py [ARGUMENTS]\n",
      "2024-11-23 18:11:44.382 Thread 'MainThread': missing ScriptRunContext! This warning can be ignored when running in bare mode.\n",
      "2024-11-23 18:11:44.382 Thread 'MainThread': missing ScriptRunContext! This warning can be ignored when running in bare mode.\n",
      "2024-11-23 18:11:44.382 Thread 'MainThread': missing ScriptRunContext! This warning can be ignored when running in bare mode.\n",
      "2024-11-23 18:11:44.382 Thread 'MainThread': missing ScriptRunContext! This warning can be ignored when running in bare mode.\n",
      "2024-11-23 18:11:44.382 Thread 'MainThread': missing ScriptRunContext! This warning can be ignored when running in bare mode.\n",
      "2024-11-23 18:11:44.382 Thread 'MainThread': missing ScriptRunContext! This warning can be ignored when running in bare mode.\n",
      "2024-11-23 18:11:44.382 Session state does not function when running a script without `streamlit run`\n",
      "2024-11-23 18:11:44.382 Thread 'MainThread': missing ScriptRunContext! This warning can be ignored when running in bare mode.\n",
      "2024-11-23 18:11:44.390 Thread 'MainThread': missing ScriptRunContext! This warning can be ignored when running in bare mode.\n",
      "2024-11-23 18:11:44.390 Thread 'MainThread': missing ScriptRunContext! This warning can be ignored when running in bare mode.\n",
      "2024-11-23 18:11:44.390 Thread 'MainThread': missing ScriptRunContext! This warning can be ignored when running in bare mode.\n",
      "2024-11-23 18:11:44.392 Thread 'MainThread': missing ScriptRunContext! This warning can be ignored when running in bare mode.\n",
      "2024-11-23 18:11:44.392 Thread 'MainThread': missing ScriptRunContext! This warning can be ignored when running in bare mode.\n",
      "2024-11-23 18:11:44.392 Thread 'MainThread': missing ScriptRunContext! This warning can be ignored when running in bare mode.\n"
     ]
    }
   ],
   "source": [
    "\n",
    "\n",
    "class ChatBot:\n",
    "    def __init__(self, model_name=\"microsoft/DialoGPT-medium\"):\n",
    "        \"\"\"\n",
    "        Initialize the chatbot with a specified model.\n",
    "        Default: DialoGPT-medium from Hugging Face Transformers.\n",
    "        \"\"\"\n",
    "        self.model_name = model_name\n",
    "        self.chatbot_model = self.load_model()\n",
    "\n",
    "    def load_model(self):\n",
    "        \"\"\"\n",
    "        Load the pre-trained conversational model.\n",
    "        Returns:\n",
    "            A Hugging Face pipeline for conversational tasks.\n",
    "        \"\"\"\n",
    "        return pipeline(\"text-generation\", model=self.model_name)\n",
    "\n",
    "    def generate_response(self, user_input):\n",
    "        \"\"\"\n",
    "        Generate a response to the user's input using the chatbot model.\n",
    "        Args:\n",
    "            user_input (str): The user's message.\n",
    "        Returns:\n",
    "            str: The chatbot's response.\n",
    "        \"\"\"\n",
    "        if not user_input.strip():\n",
    "            return \"Please type something for me to respond to!\"\n",
    "        \n",
    "        response = self.chatbot_model(user_input, max_length=1000, num_return_sequences=1)[0][\"generated_text\"]\n",
    "        return response\n",
    "\n",
    "chatbot = ChatBot()\n",
    "\n",
    "st.title(\"Chatbot\")\n",
    "st.write(\"Ask me anything!\")\n",
    "\n",
    "if 'history' not in st.session_state:\n",
    "    st.session_state.history = []\n",
    "\n",
    "def get_response(user_input):\n",
    "    st.session_state.history.append(f'User: {user_input}')\n",
    "    \n",
    "    chat_history = ' '.join(st.session_state.history[-5:])\n",
    "\n",
    "    chatbot_response = chatbot.generate_response(chat_history)\n",
    "    \n",
    "    st.session_state.history.append(f'Chatbot: {chatbot_response}')\n",
    "\n",
    "    return chatbot_response\n",
    "\n",
    "user_input = st.text_input(\"Your message:\")\n",
    "\n",
    "if user_input:\n",
    "    chatbot_response = get_response(user_input)\n",
    "    \n",
    "    for message in reversed(st.session_state.history):\n",
    "        st.write(message)\n"
   ]
  }
 ],
 "metadata": {
  "kernelspec": {
   "display_name": "base",
   "language": "python",
   "name": "python3"
  },
  "language_info": {
   "codemirror_mode": {
    "name": "ipython",
    "version": 3
   },
   "file_extension": ".py",
   "mimetype": "text/x-python",
   "name": "python",
   "nbconvert_exporter": "python",
   "pygments_lexer": "ipython3",
   "version": "3.12.7"
  }
 },
 "nbformat": 4,
 "nbformat_minor": 5
}
